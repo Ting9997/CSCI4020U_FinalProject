{
 "cells": [
  {
   "cell_type": "markdown",
   "id": "f2dd921e-534b-4e5c-9c36-492f72910813",
   "metadata": {
    "editable": false
   },
   "source": [
    "# Assignment 3"
   ]
  },
  {
   "cell_type": "code",
   "execution_count": 1,
   "id": "5717a6e1-13b5-464b-9244-fdec8411cd5f",
   "metadata": {
    "editable": false,
    "tags": []
   },
   "outputs": [],
   "source": [
    "// [THIS IS READ-ONLY]\n",
    "@file:DependsOn(\"/antlr-4.11.1-complete.jar\")\n",
    "@file:DependsOn(\"./target\")"
   ]
  },
  {
   "cell_type": "code",
   "execution_count": 2,
   "id": "3b38dfda-74cd-4464-a6e0-a42096ff8aab",
   "metadata": {
    "editable": false,
    "tags": []
   },
   "outputs": [],
   "source": [
    "// [THIS IS READ-ONLY]\n",
    "import org.antlr.v4.runtime.*\n",
    "import backend.*"
   ]
  },
  {
   "cell_type": "code",
   "execution_count": 3,
   "id": "87e5764c-c1cf-43f8-86b8-71f1e6bfae44",
   "metadata": {
    "editable": false,
    "tags": []
   },
   "outputs": [],
   "source": [
    "// [THIS IS READ-ONLY]\n",
    "fun execute(source:String) {\n",
    "    val errorlistener = object: BaseErrorListener() {\n",
    "        override fun syntaxError(recognizer: Recognizer<*,*>,\n",
    "               offendingSymbol: Any?,\n",
    "               line: Int,\n",
    "               pos: Int,\n",
    "               msg: String,\n",
    "               e: RecognitionException?) {\n",
    "            throw Exception(\"${e} at line:${line}, char:${pos}\")\n",
    "        }\n",
    "    }\n",
    "    val input = CharStreams.fromString(source)\n",
    "    val lexer = PLLexer(input).apply {\n",
    "        removeErrorListeners()\n",
    "        addErrorListener(errorlistener)\n",
    "    }\n",
    "    val tokens = CommonTokenStream(lexer)\n",
    "    val parser = PLParser(tokens).apply {\n",
    "        removeErrorListeners()\n",
    "        addErrorListener(errorlistener)\n",
    "    }    \n",
    "    \n",
    "    try {\n",
    "        val result = parser.program()\n",
    "        result.expr.eval(Runtime())\n",
    "    } catch(e:Exception) {\n",
    "        println(\"Error: ${e}\")\n",
    "    }\n",
    "}"
   ]
  },
  {
   "cell_type": "markdown",
   "id": "d02565aa-4e9f-4261-a185-d140b68c54f1",
   "metadata": {
    "editable": false
   },
   "source": [
    "## String arithmetics"
   ]
  },
  {
   "cell_type": "code",
   "execution_count": null,
   "id": "b001c14e-2f45-48fc-82be-a98168bf2aa9",
   "metadata": {
    "editable": false,
    "tags": []
   },
   "outputs": [],
   "source": [
    "// [THIS IS READ-ONLY]\n",
    "val program1 = \"\"\"\n",
    "x = \"Hello\";\n",
    "y = \"World\";\n",
    "\n",
    "print(x ++ \" \" ++ y);\n",
    "\"\"\""
   ]
  },
  {
   "cell_type": "code",
   "execution_count": null,
   "id": "b3c2857e",
   "metadata": {
    "tags": []
   },
   "outputs": [],
   "source": [
    "// [YOUR WORK HERE]\n",
    "// @workUnit\n",
    "// execute the program\n",
    "\n",
    "execute(program1)"
   ]
  },
  {
   "cell_type": "code",
   "execution_count": null,
   "id": "b4db9836-74ed-4602-9135-81886d065fbb",
   "metadata": {
    "tags": []
   },
   "outputs": [],
   "source": [
    "// Lower case s in string probably shouldn't work\n",
    "val test1 = \"\"\"\n",
    "String x = \"Hello\";\n",
    "string y = \"World\";\n",
    "\n",
    "print(x ++ \" \" ++ y);\n",
    "\"\"\""
   ]
  },
  {
   "cell_type": "code",
   "execution_count": null,
   "id": "59deb3e4-598c-49d8-a23a-793e286d79be",
   "metadata": {
    "tags": []
   },
   "outputs": [],
   "source": [
    "execute(test1)"
   ]
  },
  {
   "cell_type": "markdown",
   "id": "b4ad5b2d-b4b2-42e8-bbe1-0ecefb10102d",
   "metadata": {
    "editable": false
   },
   "source": [
    "## Mixed arithmetics"
   ]
  },
  {
   "cell_type": "code",
   "execution_count": null,
   "id": "579a59aa-6074-4715-a248-bd553e9bddbf",
   "metadata": {
    "editable": false,
    "tags": []
   },
   "outputs": [],
   "source": [
    "// [THIS IS READ-ONLY]\n",
    "val program2 = \"\"\"\n",
    "x = \"woof \";\n",
    "y = \"Dog goes \" ++ (x * 2);\n",
    "\n",
    "print(y);\n",
    "\"\"\""
   ]
  },
  {
   "cell_type": "code",
   "execution_count": null,
   "id": "629a437d",
   "metadata": {
    "tags": []
   },
   "outputs": [],
   "source": [
    "// [YOUR WORK HERE]\n",
    "// @workUnit\n",
    "\n",
    "execute(program2)"
   ]
  },
  {
   "cell_type": "code",
   "execution_count": null,
   "id": "5a69a144-c5ae-4600-9bea-ee9408999171",
   "metadata": {
    "tags": []
   },
   "outputs": [],
   "source": [
    "val test2 = \"\"\"\n",
    "String x = \"woof \";\n",
    "String y = \"Dog goes \" ++ (x * 2);\n",
    "\n",
    "print(y);\n",
    "\"\"\""
   ]
  },
  {
   "cell_type": "code",
   "execution_count": null,
   "id": "e0a6c29a-43e8-4eba-ad66-dfc1b84afd0b",
   "metadata": {
    "tags": []
   },
   "outputs": [],
   "source": [
    "execute(test2)"
   ]
  },
  {
   "cell_type": "code",
   "execution_count": null,
   "id": "f9977588-4651-447e-a395-a871d1ff2d67",
   "metadata": {
    "tags": []
   },
   "outputs": [],
   "source": [
    "val test3 = \"\"\"\n",
    "String x = \"woof \";\n",
    "String y = \"Dog goes \" ++ (2 * x);\n",
    "\n",
    "print(y);\n",
    "\"\"\""
   ]
  },
  {
   "cell_type": "code",
   "execution_count": null,
   "id": "8bae7ccb-a132-4667-8930-c3d223a08fb6",
   "metadata": {
    "tags": []
   },
   "outputs": [],
   "source": [
    "execute(test3)"
   ]
  },
  {
   "cell_type": "code",
   "execution_count": 6,
   "id": "c8821af5-5642-44e3-8800-c447577a1e0e",
   "metadata": {
    "tags": []
   },
   "outputs": [],
   "source": [
    "val test4 = \"\"\"\n",
    "int num1 = 1.1\n",
    "double num2 = 1\n",
    "\n",
    "print(num1+num2);\n",
    "\"\"\""
   ]
  },
  {
   "cell_type": "code",
   "execution_count": 7,
   "id": "04b5e2e1-be6e-4c59-a623-d6be482c3805",
   "metadata": {
    "tags": []
   },
   "outputs": [
    {
     "name": "stdout",
     "output_type": "stream",
     "text": [
      "2.1\n"
     ]
    }
   ],
   "source": [
    "execute(test4)"
   ]
  },
  {
   "cell_type": "markdown",
   "id": "172ba344-0ce6-49c2-a5ac-d14eefdaffb4",
   "metadata": {
    "editable": false,
    "tags": []
   },
   "source": [
    "## Loops"
   ]
  },
  {
   "cell_type": "code",
   "execution_count": null,
   "id": "eab62b5c-103d-4b9e-9244-61faa2571bd7",
   "metadata": {
    "editable": false,
    "tags": []
   },
   "outputs": [],
   "source": [
    "// [THIS IS READ-ONLY]\n",
    "val program3 = \"\"\"\n",
    "sum = 0\n",
    "for(i in 10..20) {\n",
    "  sum = sum + i;\n",
    "}\n",
    "\n",
    "print(sum)\n",
    "\"\"\""
   ]
  },
  {
   "cell_type": "code",
   "execution_count": null,
   "id": "9f1ac87b",
   "metadata": {
    "tags": []
   },
   "outputs": [],
   "source": [
    "// [YOUR WORK HERE]\n",
    "// @workUnit\n",
    "\n",
    "execute(program3)"
   ]
  },
  {
   "cell_type": "code",
   "execution_count": null,
   "id": "372e7093-3c0e-4860-9773-d93ed663fefc",
   "metadata": {
    "tags": []
   },
   "outputs": [],
   "source": [
    "val test5 = \"\"\"\n",
    "int sum = 0\n",
    "for(i in 10..20) {\n",
    "  sum = sum + i;\n",
    "}\n",
    "\n",
    "print(sum)\n",
    "\"\"\""
   ]
  },
  {
   "cell_type": "code",
   "execution_count": null,
   "id": "a4752e7f-8b1f-408b-adea-45d69a6ae9d2",
   "metadata": {
    "tags": []
   },
   "outputs": [],
   "source": [
    "execute(test5)"
   ]
  },
  {
   "cell_type": "markdown",
   "id": "46585be1-3814-4ad5-83e8-6ff46f99b90f",
   "metadata": {
    "editable": false,
    "tags": []
   },
   "source": [
    "## Function"
   ]
  },
  {
   "cell_type": "code",
   "execution_count": null,
   "id": "91e9c33b-9393-4de7-8e98-aa82d568df53",
   "metadata": {
    "editable": false,
    "tags": []
   },
   "outputs": [],
   "source": [
    "// [THIS IS READ-ONLY]\n",
    "val program4 = \"\"\"\n",
    "function greeting(name, message) {\n",
    "  x = \"Hi,\";\n",
    "  x = x ++ \" my name is \" ++ name ++ \".\";\n",
    "  print(x);\n",
    "  print(message);\n",
    "}\n",
    "\n",
    "greeting(\"Albert\", \"How are you?\");\n",
    "\"\"\""
   ]
  },
  {
   "cell_type": "code",
   "execution_count": null,
   "id": "475f7864",
   "metadata": {
    "tags": []
   },
   "outputs": [],
   "source": [
    "// [YOUR WORK HERE]\n",
    "// @workUnit\n",
    "\n",
    "execute(program4)"
   ]
  },
  {
   "cell_type": "code",
   "execution_count": null,
   "id": "770ab0b1-f6c9-4e54-b2b0-e409fb2526e6",
   "metadata": {
    "tags": []
   },
   "outputs": [],
   "source": [
    "val test6 = \"\"\"\n",
    "function greeting(name, message) {\n",
    "  String x = \"Hi,\";\n",
    "  x = x ++ \" my name is \" ++ name ++ \".\";\n",
    "  print(x);\n",
    "  print(message);\n",
    "}\n",
    "\n",
    "greeting(\"Albert\", \"How are you?\");\n",
    "\"\"\""
   ]
  },
  {
   "cell_type": "code",
   "execution_count": null,
   "id": "c5aa3525-e7c9-43f4-8962-71cc81d33f3f",
   "metadata": {
    "tags": []
   },
   "outputs": [],
   "source": [
    "execute(test6)"
   ]
  },
  {
   "cell_type": "markdown",
   "id": "aeb42862-8d8a-4a40-ae06-a5641eb8d2bf",
   "metadata": {
    "editable": false,
    "tags": []
   },
   "source": [
    "## Recursion"
   ]
  },
  {
   "cell_type": "code",
   "execution_count": null,
   "id": "c39324da-96e3-4e61-a489-f23a7fc3f508",
   "metadata": {
    "editable": false,
    "tags": []
   },
   "outputs": [],
   "source": [
    "// [THIS IS READ-ONLY]\n",
    "val program5 = \"\"\"\n",
    "function factorial(n) {\n",
    "  if(n < 2) {\n",
    "    1;\n",
    "  } else {\n",
    "    n * factorial(n-1);\n",
    "  }\n",
    "}\n",
    "\n",
    "print(factorial(10));\n",
    "\"\"\""
   ]
  },
  {
   "cell_type": "code",
   "execution_count": null,
   "id": "755cf3df",
   "metadata": {
    "tags": []
   },
   "outputs": [],
   "source": [
    "// [YOUR WORK HERE]\n",
    "// @workUnit\n",
    "\n",
    "execute(program5)"
   ]
  },
  {
   "cell_type": "markdown",
   "id": "3146e633-bfa8-484d-888b-25fe36d059ca",
   "metadata": {},
   "source": [
    "## Double"
   ]
  },
  {
   "cell_type": "code",
   "execution_count": null,
   "id": "2127e543-619d-49b8-9c2d-088825a1692b",
   "metadata": {
    "tags": []
   },
   "outputs": [],
   "source": [
    "val program6 = \"\"\"\n",
    "double num1 = 2.1\n",
    "double num2 = 2.1\n",
    "print(num1+num2)\n",
    "\n",
    "\"\"\""
   ]
  },
  {
   "cell_type": "code",
   "execution_count": null,
   "id": "d19acce4-80be-4785-8ff9-e813c285c0d8",
   "metadata": {
    "tags": []
   },
   "outputs": [],
   "source": [
    "execute(program6)"
   ]
  },
  {
   "cell_type": "code",
   "execution_count": null,
   "id": "259828a1-b0c4-4c83-8534-c57663c1e369",
   "metadata": {},
   "outputs": [],
   "source": []
  }
 ],
 "metadata": {
  "kernelspec": {
   "display_name": "Kotlin",
   "language": "kotlin",
   "name": "kotlin"
  },
  "language_info": {
   "codemirror_mode": "text/x-kotlin",
   "file_extension": ".kt",
   "mimetype": "text/x-kotlin",
   "name": "kotlin",
   "nbconvert_exporter": "",
   "pygments_lexer": "kotlin",
   "version": "1.8.0-dev-707"
  }
 },
 "nbformat": 4,
 "nbformat_minor": 5
}
