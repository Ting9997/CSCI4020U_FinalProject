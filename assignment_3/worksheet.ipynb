{
    "cells": [
     {
      "cell_type": "markdown",
      "id": "ee6b9f0e-09b1-4998-840b-5083cffa4e50",
      "metadata": {
       "editable": false
      },
      "source": [
       "# Assignment 3"
      ]
     },
     {
      "cell_type": "code",
      "execution_count": 1,
      "id": "c60b2f15-8774-46b1-bd8d-20fc692cc01b",
      "metadata": {
       "editable": false,
       "tags": []
      },
      "outputs": [],
      "source": [
       "// [THIS IS READ-ONLY]\n",
       "@file:DependsOn(\"/antlr-4.11.1-complete.jar\")\n",
       "@file:DependsOn(\"./target\")"
      ]
     },
     {
      "cell_type": "code",
      "execution_count": 2,
      "id": "befa56f1-bc77-46a0-bac5-534cf506e8b7",
      "metadata": {
       "editable": false,
       "tags": []
      },
      "outputs": [],
      "source": [
       "// [THIS IS READ-ONLY]\n",
       "import org.antlr.v4.runtime.*\n",
       "import backend.*"
      ]
     },
     {
      "cell_type": "code",
      "execution_count": 3,
      "id": "65dc00a0-a5a0-48fb-9c81-1b95bf3523ff",
      "metadata": {
       "editable": false,
       "tags": []
      },
      "outputs": [],
      "source": [
       "// [THIS IS READ-ONLY]\n",
       "fun execute(source:String) {\n",
       "    val errorlistener = object: BaseErrorListener() {\n",
       "        override fun syntaxError(recognizer: Recognizer<*,*>,\n",
       "               offendingSymbol: Any?,\n",
       "               line: Int,\n",
       "               pos: Int,\n",
       "               msg: String,\n",
       "               e: RecognitionException?) {\n",
       "            throw Exception(\"${e} at line:${line}, char:${pos}\")\n",
       "        }\n",
       "    }\n",
       "    val input = CharStreams.fromString(source)\n",
       "    val lexer = PLLexer(input).apply {\n",
       "        removeErrorListeners()\n",
       "        addErrorListener(errorlistener)\n",
       "    }\n",
       "    val tokens = CommonTokenStream(lexer)\n",
       "    val parser = PLParser(tokens).apply {\n",
       "        removeErrorListeners()\n",
       "        addErrorListener(errorlistener)\n",
       "    }    \n",
       "    \n",
       "    try {\n",
       "        val result = parser.program()\n",
       "        result.expr.eval(Runtime())\n",
       "    } catch(e:Exception) {\n",
       "        println(\"Error: ${e}\")\n",
       "    }\n",
       "}"
      ]
     },
     {
      "cell_type": "markdown",
      "id": "502c26fd-f005-4b63-8c05-dcc204d9a6d8",
      "metadata": {
       "editable": false
      },
      "source": [
       "## String arithmetics"
      ]
     },
     {
      "cell_type": "code",
      "execution_count": 4,
      "id": "63d419af-9c62-4a0e-9036-9c94560e2777",
      "metadata": {
       "editable": false,
       "tags": []
      },
      "outputs": [],
      "source": [
       "// [THIS IS READ-ONLY]\n",
       "val program1 = \"\"\"\n",
       "x = \"Hello\";\n",
       "y = \"World\";\n",
       "\n",
       "print(x ++ \" \" ++ y);\n",
       "\"\"\""
      ]
     },
     {
      "cell_type": "code",
      "execution_count": 5,
      "id": "c186cd7a-53bd-4b23-b12c-b11c2e5160d1",
      "metadata": {
       "tags": []
      },
      "outputs": [
       {
        "name": "stdout",
        "output_type": "stream",
        "text": [
         "Error: java.lang.Exception: x has not been defined\n"
        ]
       }
      ],
      "source": [
       "// [YOUR WORK HERE]\n",
       "// @workUnit\n",
       "// execute the program\n",
       "\n",
       "execute(program1)"
      ]
     },
     {
      "cell_type": "code",
      "execution_count": 6,
      "id": "161da2fd-7ab5-46e8-b93b-b0b85b9a1c2b",
      "metadata": {
       "tags": []
      },
      "outputs": [],
      "source": [
       "// Lower case s in string probably shouldn't work\n",
       "val test1 = \"\"\"\n",
       "String x = \"Hello\";\n",
       "string y = \"World\";\n",
       "\n",
       "print(x ++ \" \" ++ y);\n",
       "\"\"\""
      ]
     },
     {
      "cell_type": "code",
      "execution_count": 7,
      "id": "ca209154-5466-45a0-96bb-a6a83349da61",
      "metadata": {
       "tags": []
      },
      "outputs": [
       {
        "name": "stdout",
        "output_type": "stream",
        "text": [
         "Hello World\n"
        ]
       }
      ],
      "source": [
       "execute(test1)"
      ]
     },
     {
      "cell_type": "markdown",
      "id": "54a55de1-2809-42f4-90a4-06cabecb13a5",
      "metadata": {
       "editable": false
      },
      "source": [
       "## Mixed arithmetics"
      ]
     },
     {
      "cell_type": "code",
      "execution_count": 8,
      "id": "5bb17b34-20b9-46e7-b5a0-a55a863a0827",
      "metadata": {
       "editable": false,
       "tags": []
      },
      "outputs": [],
      "source": [
       "// [THIS IS READ-ONLY]\n",
       "val program2 = \"\"\"\n",
       "x = \"woof \";\n",
       "y = \"Dog goes \" ++ (x * 2);\n",
       "\n",
       "print(y);\n",
       "\"\"\""
      ]
     },
     {
      "cell_type": "code",
      "execution_count": 9,
      "id": "44d2c088-37f0-4d36-a819-09e34c4efc19",
      "metadata": {
       "tags": []
      },
      "outputs": [
       {
        "name": "stdout",
        "output_type": "stream",
        "text": [
         "Error: java.lang.Exception: x has not been defined\n"
        ]
       }
      ],
      "source": [
       "// [YOUR WORK HERE]\n",
       "// @workUnit\n",
       "\n",
       "execute(program2)"
      ]
     },
     {
      "cell_type": "code",
      "execution_count": 5,
      "id": "780e83fa-2321-48f3-af73-7df8448122d4",
      "metadata": {
       "tags": []
      },
      "outputs": [],
      "source": [
       "val test2 = \"\"\"\n",
       "String x = \"woof \";\n",
       "String y = \"Dog goes \" ++ (x * 2);\n",
       "\n",
       "print(y);\n",
       "\"\"\""
      ]
     },
     {
      "cell_type": "code",
      "execution_count": 6,
      "id": "b449a279-309d-4894-842c-582bd2b94f00",
      "metadata": {
       "tags": []
      },
      "outputs": [
       {
        "name": "stdout",
        "output_type": "stream",
        "text": [
         "Dog goes woof woof \n"
        ]
       }
      ],
      "source": [
       "execute(test2)"
      ]
     },
     {
      "cell_type": "code",
      "execution_count": 12,
      "id": "66cd2305-ab23-4d3e-8cb6-310e573f2ff9",
      "metadata": {
       "tags": []
      },
      "outputs": [],
      "source": [
       "val test3 = \"\"\"\n",
       "String x = \"woof \";\n",
       "String y = \"Dog goes \" ++ (2 * x);\n",
       "\n",
       "print(y);\n",
       "\"\"\""
      ]
     },
     {
      "cell_type": "code",
      "execution_count": 13,
      "id": "b850a4cd-f2d9-4c64-9186-2b7a4e49fd1c",
      "metadata": {
       "tags": []
      },
      "outputs": [
       {
        "name": "stdout",
        "output_type": "stream",
        "text": [
         "Dog goes woof woof \n"
        ]
       }
      ],
      "source": [
       "execute(test3)"
      ]
     },
     {
      "cell_type": "code",
      "execution_count": 14,
      "id": "6e2a8e24-4bc2-4ff6-b52a-b1129c45935b",
      "metadata": {
       "tags": []
      },
      "outputs": [],
      "source": [
       "val test4 = \"\"\"\n",
       "int num1 = 1.1\n",
       "double num2 = 1\n",
       "\n",
       "print(num1+num2);\n",
       "\"\"\""
      ]
     },
     {
      "cell_type": "code",
      "execution_count": 15,
      "id": "a84c5aee-11f8-405f-9d36-8fc8ac587056",
      "metadata": {
       "tags": []
      },
      "outputs": [
       {
        "name": "stdout",
        "output_type": "stream",
        "text": [
         "2.1\n"
        ]
       }
      ],
      "source": [
       "execute(test4)"
      ]
     },
     {
      "cell_type": "markdown",
      "id": "dee67547-9c01-4370-9b67-26d97eb62066",
      "metadata": {
       "editable": false,
       "tags": []
      },
      "source": [
       "## Loops"
      ]
     },
     {
      "cell_type": "code",
      "execution_count": 16,
      "id": "bd144ba6-3d38-4093-9026-bd7a85770080",
      "metadata": {
       "editable": false,
       "tags": []
      },
      "outputs": [],
      "source": [
       "// [THIS IS READ-ONLY]\n",
       "val program3 = \"\"\"\n",
       "sum = 0\n",
       "for(i in 10..20) {\n",
       "  sum = sum + i;\n",
       "}\n",
       "\n",
       "print(sum)\n",
       "\"\"\""
      ]
     },
     {
      "cell_type": "code",
      "execution_count": 17,
      "id": "3c249b9a-c306-4dd1-a92f-10bf1cb0168c",
      "metadata": {
       "tags": []
      },
      "outputs": [
       {
        "name": "stdout",
        "output_type": "stream",
        "text": [
         "Error: java.lang.Exception: sum has not been defined\n"
        ]
       }
      ],
      "source": [
       "// [YOUR WORK HERE]\n",
       "// @workUnit\n",
       "\n",
       "execute(program3)"
      ]
     },
     {
      "cell_type": "code",
      "execution_count": 18,
      "id": "d62d11c1-e553-4ea9-808b-945d9c6132bd",
      "metadata": {
       "tags": []
      },
      "outputs": [],
      "source": [
       "val test5 = \"\"\"\n",
       "int sum = 0\n",
       "for(i in 10..20) {\n",
       "  sum = sum + i;\n",
       "}\n",
       "\n",
       "print(sum)\n",
       "\"\"\""
      ]
     },
     {
      "cell_type": "code",
      "execution_count": 19,
      "id": "ba5046d9-f006-4d74-b863-93ae58f6f173",
      "metadata": {
       "tags": []
      },
      "outputs": [
       {
        "name": "stdout",
        "output_type": "stream",
        "text": [
         "165\n"
        ]
       }
      ],
      "source": [
       "execute(test5)"
      ]
     },
     {
      "cell_type": "markdown",
      "id": "6847fbd6-9da8-4caf-9b89-cac30081f48c",
      "metadata": {
       "editable": false,
       "tags": []
      },
      "source": [
       "## Function"
      ]
     },
     {
      "cell_type": "code",
      "execution_count": 20,
      "id": "ddd77f2a-1cac-4d61-97b5-20e06509922f",
      "metadata": {
       "editable": false,
       "tags": []
      },
      "outputs": [],
      "source": [
       "// [THIS IS READ-ONLY]\n",
       "val program4 = \"\"\"\n",
       "function greeting(name, message) {\n",
       "  x = \"Hi,\";\n",
       "  x = x ++ \" my name is \" ++ name ++ \".\";\n",
       "  print(x);\n",
       "  print(message);\n",
       "}\n",
       "\n",
       "greeting(\"Albert\", \"How are you?\");\n",
       "\"\"\""
      ]
     },
     {
      "cell_type": "code",
      "execution_count": 21,
      "id": "d3025a18-e2ba-435b-ac19-7d95ebd55aba",
      "metadata": {
       "tags": []
      },
      "outputs": [
       {
        "name": "stdout",
        "output_type": "stream",
        "text": [
         "Error: java.lang.Exception: null at line:2, char:22\n"
        ]
       }
      ],
      "source": [
       "// [YOUR WORK HERE]\n",
       "// @workUnit\n",
       "\n",
       "execute(program4)"
      ]
     },
     {
      "cell_type": "code",
      "execution_count": 7,
      "id": "2f9bf833-2344-44cf-b3d6-1947d827e08e",
      "metadata": {
       "tags": []
      },
      "outputs": [],
      "source": [
       "val test6 = \"\"\"\n",
       "function greeting(String name, String message): None {\n",
       "  String x = \"Hi,\";\n",
       "  x = x ++ \" my name is \" ++ name ++ \".\";\n",
       "  print(x);\n",
       "  print(message);\n",
       "}\n",
       "\n",
       "greeting(\"Albert\", \"How are you?\");\n",
       "\"\"\""
      ]
     },
     {
      "cell_type": "code",
      "execution_count": 1,
      "id": "70f4a136-b9f9-472b-8e01-c09736289e65",
      "metadata": {
       "tags": []
      },
      "outputs": [
       {
        "name": "stderr",
        "output_type": "stream",
        "text": [
         "Line_0.jupyter-kts (1:1 - 8) Unresolved reference: execute\n",
         "Line_0.jupyter-kts (1:9 - 14) Unresolved reference: test6"
        ]
       }
      ],
      "source": [
       "execute(test6)"
      ]
     },
     {
      "cell_type": "markdown",
      "id": "806ffb77-582e-4f86-b361-d2fa858e2879",
      "metadata": {
       "editable": false,
       "tags": []
      },
      "source": [
       "## Recursion"
      ]
     },
     {
      "cell_type": "code",
      "execution_count": 24,
      "id": "16f84ad6-21cc-4e53-b8ce-80fbb2fd715c",
      "metadata": {
       "editable": false,
       "tags": []
      },
      "outputs": [],
      "source": [
       "// [THIS IS READ-ONLY]\n",
       "val program5 = \"\"\"\n",
       "function factorial(n) {\n",
       "  if(n < 2) {\n",
       "    1;\n",
       "  } else {\n",
       "    n * factorial(n-1);\n",
       "  }\n",
       "}\n",
       "\n",
       "print(factorial(10));\n",
       "\"\"\""
      ]
     },
     {
      "cell_type": "code",
      "execution_count": 25,
      "id": "3a48acb6-5a8f-406f-8640-e7e524550e4f",
      "metadata": {
       "tags": []
      },
      "outputs": [
       {
        "name": "stdout",
        "output_type": "stream",
        "text": [
         "Error: java.lang.Exception: null at line:2, char:20\n"
        ]
       }
      ],
      "source": [
       "// [YOUR WORK HERE]\n",
       "// @workUnit\n",
       "\n",
       "execute(program5)"
      ]
     },
     {
      "cell_type": "markdown",
      "id": "972752d9-fdf7-4210-8a88-d1186317cf05",
      "metadata": {
       "tags": []
      },
      "source": [
       "## Double"
      ]
     },
     {
      "cell_type": "code",
      "execution_count": 26,
      "id": "69aa1b3b-87cc-4a37-b687-8540b9b6351f",
      "metadata": {
       "tags": []
      },
      "outputs": [],
      "source": [
       "val program6 = \"\"\"\n",
       "double num1 = 2.1\n",
       "double num2 = 2.1\n",
       "print(num1+num2)\n",
       "\n",
       "\"\"\""
      ]
     },
     {
      "cell_type": "code",
      "execution_count": 27,
      "id": "1e55c02b-c418-43be-84cd-4e6630c0b97e",
      "metadata": {
       "tags": []
      },
      "outputs": [
       {
        "name": "stdout",
        "output_type": "stream",
        "text": [
         "4.2\n"
        ]
       }
      ],
      "source": [
       "execute(program6)"
      ]
     },
     {
      "cell_type": "code",
      "execution_count": null,
      "id": "20544b7b-e48a-4b2c-a38d-53bd3486fdce",
      "metadata": {
       "tags": []
      },
      "outputs": [],
      "source": [
       "val program5 = \"\"\"\n",
       "function factorial(int n): Int {\n",
       "  if(n < 2) {\n",
       "    1;\n",
       "  } else {\n",
       "    n * factorial(n-1);\n",
       "  }\n",
       "}\n",
       "\n",
       "print(factorial(10));\n",
       "\"\"\"\n",
       "execute(program5)"
      ]
     },
     {
      "cell_type": "code",
      "execution_count": 35,
      "id": "327f1043-4804-44a0-ab66-d5fcc25db8bc",
      "metadata": {
       "tags": []
      },
      "outputs": [
       {
        "name": "stdout",
        "output_type": "stream",
        "text": [
         "3628800\n"
        ]
       }
      ],
      "source": [
       "val test7 = \"\"\"\n",
       "int sum = 1\n",
       "int n = 10\n",
       "while(n != 1) {\n",
       "  sum = sum * n\n",
       "  n = n - 1\n",
       "}\n",
       "\n",
       "print(sum)\n",
       "\"\"\"\n",
       "execute(test7)"
      ]
     },
     {
      "cell_type": "markdown",
      "id": "22d783ee-adc7-48db-b128-5abb816b2525",
      "metadata": {},
      "source": [
       "# Long Example"
      ]
     },
     {
      "cell_type": "code",
      "execution_count": 32,
      "id": "b2e8d6b3-2543-48e6-a46b-e31b4ff848a8",
      "metadata": {
       "tags": []
      },
      "outputs": [
       {
        "name": "stdout",
        "output_type": "stream",
        "text": [
         "42\n",
         "Hello buffalo buffalo buffalo buffalo buffalo buffalo buffalo buffalo buffalo buffalo \n",
         "200\n",
         "6\n",
         "0.374504158755377\n"
        ]
       }
      ],
      "source": [
       "val bigProgram = \"\"\"\n",
       "function getAnswerToQuestion(): int {\n",
       "    42\n",
       "}\n",
       "\n",
       "function appendMultipleOfString(String stringA, String stringB, int multiplier): String {\n",
       "    stringA + (stringB * multiplier) \n",
       "}\n",
       "\n",
       "function sumFromTo(int from, int to): int {\n",
       "    int result = 0\n",
       "    for(i in from..to) {\n",
       "        result = result + i\n",
       "    }\n",
       "    result\n",
       "}\n",
       "\n",
       "function getNumberOfDigits(int number): int {\n",
       "    int counter = 0\n",
       "    while(number != 0) {\n",
       "        counter = counter + 1\n",
       "        number = number / 10\n",
       "    }\n",
       "    counter\n",
       "}\n",
       "\n",
       "function factorial(int x): int {\n",
       "    if (x <= 1) {\n",
       "        1\n",
       "    } else {\n",
       "        x*factorial(x-1)\n",
       "    }\n",
       "}\n",
       "\n",
       "function exponention(double x, int pow): double {\n",
       "    if (pow == 0) {\n",
       "        1.0\n",
       "    } else {\n",
       "        x * exponention(x, pow-1)\n",
       "    }\n",
       "}\n",
       "\n",
       "function intExp(int x, int pow): int {\n",
       "    if (pow == 0) {\n",
       "        1\n",
       "    } else {\n",
       "        x * intExp(x, pow-1)\n",
       "    }\n",
       "}\n",
       "\n",
       "function approxSin(double x): double {\n",
       "    double result = 0\n",
       "    for(k in 0..4) {\n",
       "        result = result + ((intExp(-1, k) * exponention(x, 1+2*k))/factorial(1+2*k))\n",
       "    }\n",
       "    result\n",
       "}\n",
       "\n",
       "print(getAnswerToQuestion())\n",
       "\n",
       "print(appendMultipleOfString(\"Hello \", \"buffalo \", 10))\n",
       "\n",
       "print(sumFromTo(5, 20))\n",
       "\n",
       "print(getNumberOfDigits(123456))\n",
       "\n",
       "print(approxSin(1.571))\n",
       "\n",
       "\"\"\"\n",
       "\n",
       "execute(bigProgram)"
      ]
     }
    ],
    "metadata": {
     "kernelspec": {
      "display_name": "Kotlin",
      "language": "kotlin",
      "name": "kotlin"
     },
     "language_info": {
      "codemirror_mode": "text/x-kotlin",
      "file_extension": ".kt",
      "mimetype": "text/x-kotlin",
      "name": "kotlin",
      "nbconvert_exporter": "",
      "pygments_lexer": "kotlin",
      "version": "1.8.0-dev-707"
     }
    },
    "nbformat": 4,
    "nbformat_minor": 5
   }
   